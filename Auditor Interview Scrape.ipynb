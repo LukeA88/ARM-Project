{
 "cells": [
  {
   "cell_type": "markdown",
   "metadata": {},
   "source": [
    "## Note\n",
    "- Author: Luke Arunanondchai\n",
    "- Last version: 2/22/2019\n",
    "- Software: Python 3.7\n",
    "- Purpose of Work: AC Interview Results\n",
    "- Project: ARM"
   ]
  },
  {
   "cell_type": "code",
   "execution_count": 1,
   "metadata": {},
   "outputs": [],
   "source": [
    "import pandas as pd\n",
    "import numpy as np\n",
    "import matplotlib as mpl\n",
    "import matplotlib.pyplot as plt\n",
    "import seaborn as sns\n",
    "\n",
    "from pandas import DataFrame, Series\n",
    "\n",
    "df1 = pd.read_stata(\"..\\\\input\\\\AC interview results.dta\")\n",
    "info = df1[['firm', 'year', 'cik', 'cik_iq', 'role', 'name','sic']]\n",
    "resp = df1.filter(regex=\"d_[a-z]+\")\n",
    "df2  = pd.concat([info.reset_index(drop=True),resp],axis=1)\n",
    "lt2 = df2.groupby('cik').count()['firm']<2\n",
    "lt2 = lt2[lt2==True].index.values\n",
    "eq2 = df2.groupby('cik').count()['firm']==2\n",
    "eq2 = eq2[eq2==True].index.values\n",
    "gt2 = df2.groupby('cik').count()['firm']>2\n",
    "gt2 = gt2[gt2==True].index.values\n",
    "\n",
    "# DataFrame of firms with only 1 inspection\n",
    "df3 = df2[df2.cik.isin(list(eq2))]\n",
    "\n",
    "# DataFrame of firms with more than 1 inspection\n",
    "df4 = df2[df2.cik.isin(list(gt2))]"
   ]
  },
  {
   "cell_type": "code",
   "execution_count": 2,
   "metadata": {},
   "outputs": [],
   "source": [
    "# One inspection\n",
    "case1 = df3.copy()\n",
    "d = df3.copy()\n",
    "case1['ACansCount']  = case1.filter(regex=\"d_[a-z]+\").sum(axis=1)\n",
    "case1.rename(index = case1['cik'],inplace=True) \n",
    "caseT = case1[case1['role']=='AC'].copy()\n",
    "caseT.sort_values(by=['cik','year'],inplace=True)\n",
    "case1 = d.drop(['sic'],axis=1).groupby(['cik','year']).sum()\n",
    "case1.reset_index(inplace=True)\n",
    "case1.rename(index = case1['cik'],inplace=True)\n",
    "case1.sort_values(by=['cik','year'],inplace=True)\n",
    "case1 =pd.concat([case1,caseT['ACansCount']],axis=1)\n",
    "store1 = case1[['cik','year','ACansCount']]\n",
    "d.rename(index = d['cik'],inplace=True)\n",
    "case11 = d.copy()\n",
    "\n",
    "# Counting the number of matches for each topic\n",
    "matchC = case11.drop(['sic'],axis=1).groupby(['cik','year']).sum()>=2\n",
    "matchC.reset_index(inplace=True)\n",
    "matchC['matchCount'] = matchC.filter(regex=\"d_[a-z]+\").sum(axis=1)\n",
    "matchC['matched']=0\n",
    "for i in matchC.index:\n",
    "    if matchC.loc[i,'matchCount']>=3:\n",
    "        matchC.loc[i,'matched']=1\n",
    "        \n",
    "store11 = matchC[['cik','year','matchCount','matched']]\n",
    "store_c1 = pd.merge(store1,store11 ,how='outer',on=['cik','year'])\n",
    "store_c1['nInspection'] = 1"
   ]
  },
  {
   "cell_type": "code",
   "execution_count": 3,
   "metadata": {},
   "outputs": [],
   "source": [
    "# Two inspections\n",
    "case1 = df4.copy()\n",
    "d = df4.copy()\n",
    "case1['ACansCount']  = case1.filter(regex=\"d_[a-z]+\").sum(axis=1)\n",
    "case1.rename(index = case1['cik'],inplace=True) \n",
    "caseT = case1[case1['role']=='AC'].copy()\n",
    "caseT.sort_values(by=['cik','year'],inplace=True)\n",
    "case1 = d.drop(['sic'],axis=1).groupby(['cik','year']).sum()\n",
    "case1.reset_index(inplace=True)\n",
    "case1.rename(index = case1['cik'],inplace=True)\n",
    "case1.sort_values(by=['cik','year'],inplace=True)\n",
    "case1 =pd.concat([case1,caseT['ACansCount']],axis=1)\n",
    "store1 = case1[['cik','year','ACansCount']]\n",
    "d.rename(index = d['cik'],inplace=True)\n",
    "case11 = d.copy()\n",
    "\n",
    "# Counting the number of matches for each topic\n",
    "matchC = case11.drop(['sic'],axis=1).groupby(['cik','year']).sum()>=2\n",
    "matchC.reset_index(inplace=True)\n",
    "matchC['matchCount'] = matchC.filter(regex=\"d_[a-z]+\").sum(axis=1)\n",
    "matchC['matched']=0\n",
    "for i in matchC.index:\n",
    "    if matchC.loc[i,'matchCount']>=3:\n",
    "        matchC.loc[i,'matched']=1\n",
    "        \n",
    "store11 = matchC[['cik','year','matchCount','matched']]\n",
    "store_c2 = pd.merge(store1,store11 ,how='outer',on=['cik','year'])\n",
    "store_c2['nInspection'] = 2"
   ]
  },
  {
   "cell_type": "code",
   "execution_count": 4,
   "metadata": {},
   "outputs": [
    {
     "data": {
      "text/plain": [
       "(669, 60)"
      ]
     },
     "execution_count": 4,
     "metadata": {},
     "output_type": "execute_result"
    }
   ],
   "source": [
    "# Merge to original data\n",
    "store_all = store_c1.append(store_c2)\n",
    "df_m = pd.merge(df1,store_all,how=\"outer\",on=[\"cik\",\"year\"])\n",
    "df_m.shape"
   ]
  },
  {
   "cell_type": "code",
   "execution_count": 5,
   "metadata": {},
   "outputs": [],
   "source": [
    "# Export to excel\n",
    "df_m.to_excel(\"..\\\\output\\\\AC_output.xlsx\")"
   ]
  },
  {
   "cell_type": "code",
   "execution_count": 6,
   "metadata": {
    "scrolled": false
   },
   "outputs": [
    {
     "name": "stdout",
     "output_type": "stream",
     "text": [
      "====================================================================== \n",
      "                              Summary                                 \n",
      "====================================================================== \n",
      "Number of Firms with only 1 inspection                      : 309\n",
      "Number of Firms with 2 inspections                          : 9 (18 Obs)\n",
      "Number of Firms with less than 1 inspection                 : 15\n",
      "======================================================================  \n",
      "\n",
      "For the firms with only 1 inspection:  \n",
      "\n",
      "  - Number of Firms with 3 AC's answers                     : 151\n",
      "  - Number of Firms with less than 3 AC's answers           : 106\n",
      "  - Number of Firms with more than 3 AC's answers           : 52 \n",
      "\n",
      "  - Number of Firms with 3 matched answers                  : 37\n",
      "  - Number of Firms with less than 3 matched answers        : 269\n",
      "  - Number of Firms with more than 3 matched answers        : 3 \n",
      "\n",
      "  - Percentage of Firms with 3 matched answers              : 11.97%\n",
      "  - Percentage of Firms with less than 3 matched answers    : 87.06%\n",
      "  - Percentage of Firms with greater than 3 matched answers : 0.97% \n",
      "\n",
      "======================================================================  \n",
      "\n",
      "For the firms with 2 inspections:  \n",
      "\n",
      "  - Number of Obs with 3 AC's answers                       : 7\n",
      "  - Number of Obs with less than 3 AC's answers             : 7\n",
      "  - Number of Obs with more than 3 AC's answers             : 4 \n",
      "\n",
      "  - Number of Obs with 3 matched answers                    : 2\n",
      "  - Number of Obs with less than 3 matched answers          : 16\n",
      "  - Number of Obs with more than 3 matched answers          : 0 \n",
      "\n",
      "  - Percentage of Obs with 3 matched answers                : 11.11%\n",
      "  - Percentage of Obs with less than 3 matched answers      : 88.89%\n",
      "  - Percentage of Obs with greater than 3 matched answers   : 0.00% \n",
      "\n",
      "====================================================================== \n"
     ]
    }
   ],
   "source": [
    "print(\"====================================================================== \")\n",
    "print(\"                              Summary                                 \")\n",
    "print(\"====================================================================== \")\n",
    "print(\"Number of Firms with only 1 inspection                      :\",eq2.size)\n",
    "print(\"Number of Firms with 2 inspections                          :\",gt2.size, \"(18 Obs)\")\n",
    "print(\"Number of Firms with less than 1 inspection                 :\",lt2.size)\n",
    "print(\"====================================================================== \",\"\\n\")\n",
    "print(\"For the firms with only 1 inspection: \",\"\\n\")\n",
    "print(\"  - Number of Firms with 3 AC's answers                     :\",store_c1[store_c1.ACansCount==3].shape[0])\n",
    "print(\"  - Number of Firms with less than 3 AC's answers           :\",store_c1[store_c1.ACansCount<3].shape[0])\n",
    "print(\"  - Number of Firms with more than 3 AC's answers           :\",store_c1[store_c1.ACansCount>3].shape[0],\"\\n\")\n",
    "print(\"  - Number of Firms with 3 matched answers                  :\",store_c1[store_c1.matchCount==3].shape[0])\n",
    "print(\"  - Number of Firms with less than 3 matched answers        :\",store_c1[store_c1.matchCount<3].shape[0])\n",
    "print(\"  - Number of Firms with more than 3 matched answers        :\",store_c1[store_c1.matchCount>3].shape[0],\"\\n\")\n",
    "\n",
    "print(\"  - Percentage of Firms with 3 matched answers              :\", \"{0:.2%}\".format(store_c1[store_c1.matchCount==3].shape[0]/eq2.size))\n",
    "print(\"  - Percentage of Firms with less than 3 matched answers    :\", \"{0:.2%}\".format(store_c1[store_c1.matchCount<3].shape[0]/eq2.size))\n",
    "print(\"  - Percentage of Firms with greater than 3 matched answers :\", \"{0:.2%}\".format(store_c1[store_c1.matchCount>3].shape[0]/eq2.size),\"\\n\")\n",
    "\n",
    "print(\"====================================================================== \",\"\\n\")\n",
    "print(\"For the firms with 2 inspections: \",\"\\n\")\n",
    "print(\"  - Number of Obs with 3 AC's answers                       :\",store_c2[store_c2.ACansCount==3].shape[0])\n",
    "print(\"  - Number of Obs with less than 3 AC's answers             :\",store_c2[store_c2.ACansCount<3].shape[0])\n",
    "print(\"  - Number of Obs with more than 3 AC's answers             :\",store_c2[store_c2.ACansCount>3].shape[0],\"\\n\")\n",
    "print(\"  - Number of Obs with 3 matched answers                    :\",store_c2[store_c2.matchCount==3].shape[0])\n",
    "print(\"  - Number of Obs with less than 3 matched answers          :\",store_c2[store_c2.matchCount<3].shape[0])\n",
    "print(\"  - Number of Obs with more than 3 matched answers          :\",store_c2[store_c2.matchCount>3].shape[0],\"\\n\")\n",
    "\n",
    "print(\"  - Percentage of Obs with 3 matched answers                :\", \"{0:.2%}\".format(store_c2[store_c2.matchCount==3].shape[0]/store_c2.shape[0]))\n",
    "print(\"  - Percentage of Obs with less than 3 matched answers      :\", \"{0:.2%}\".format(store_c2[store_c2.matchCount<3].shape[0]/store_c2.shape[0]))\n",
    "print(\"  - Percentage of Obs with greater than 3 matched answers   :\", \"{0:.2%}\".format(store_c2[store_c2.matchCount>3].shape[0]/store_c2.shape[0]),\"\\n\")\n",
    "print(\"====================================================================== \")"
   ]
  },
  {
   "cell_type": "code",
   "execution_count": 7,
   "metadata": {},
   "outputs": [],
   "source": [
    "%matplotlib inline"
   ]
  },
  {
   "cell_type": "code",
   "execution_count": 8,
   "metadata": {},
   "outputs": [
    {
     "data": {
      "text/plain": [
       "(array([2., 0., 1., 0., 4., 0., 7., 0., 3., 1.]),\n",
       " array([0. , 0.5, 1. , 1.5, 2. , 2.5, 3. , 3.5, 4. , 4.5, 5. ]),\n",
       " <a list of 10 Patch objects>)"
      ]
     },
     "execution_count": 8,
     "metadata": {},
     "output_type": "execute_result"
    },
    {
     "data": {
      "image/png": "[encoded data removed]",
      "text/plain": [
       "<Figure size 921.6x633.6 with 1 Axes>"
      ]
     },
     "metadata": {},
     "output_type": "display_data"
    }
   ],
   "source": [
    "mpl.style.use('seaborn-poster') #sets the size of the charts\n",
    "mpl.style.use('ggplot')\n",
    "plt.hist(store_c1.ACansCount,alpha=0.5)\n",
    "plt.hist(store_c2.ACansCount,alpha=0.5,color='blue')"
   ]
  }
 ],
 "metadata": {
  "kernelspec": {
   "display_name": "Python 3",
   "language": "python",
   "name": "python3"
  },
  "language_info": {
   "codemirror_mode": {
    "name": "ipython",
    "version": 3
   },
   "file_extension": ".py",
   "mimetype": "text/x-python",
   "name": "python",
   "nbconvert_exporter": "python",
   "pygments_lexer": "ipython3",
   "version": "3.7.1"
  }
 },
 "nbformat": 4,
 "nbformat_minor": 2
}
